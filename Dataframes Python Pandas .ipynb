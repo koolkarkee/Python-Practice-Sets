{
 "cells": [
  {
   "cell_type": "code",
   "execution_count": 3,
   "id": "27b98f67",
   "metadata": {},
   "outputs": [
    {
     "name": "stdout",
     "output_type": "stream",
     "text": [
      "Empty DataFrame\n",
      "Columns: []\n",
      "Index: []\n"
     ]
    }
   ],
   "source": [
    "#creating an empty dataframe\n",
    "import pandas as pd \n",
    "df = pd.DataFrame() \n",
    "\n",
    "print(df)"
   ]
  },
  {
   "cell_type": "code",
   "execution_count": 4,
   "id": "6abb6d9d",
   "metadata": {},
   "outputs": [
    {
     "name": "stdout",
     "output_type": "stream",
     "text": [
      "   0\n",
      "0  a\n",
      "1  e\n",
      "2  i\n",
      "3  o\n",
      "4  u\n"
     ]
    }
   ],
   "source": [
    "#creating dataframe form lists\n",
    "import pandas as pd \n",
    "\n",
    "#list \n",
    "list = ['a', 'e', 'i', 'o', 'u']\n",
    "\n",
    "#create from list \n",
    "df = pd.DataFrame(list) \n",
    "\n",
    "print(df) "
   ]
  },
  {
   "cell_type": "code",
   "execution_count": 5,
   "id": "bf6d7519",
   "metadata": {},
   "outputs": [
    {
     "name": "stdout",
     "output_type": "stream",
     "text": [
      "  Vowel  Occurence\n",
      "0     a         10\n",
      "1     e         12\n",
      "2     i         14\n",
      "3     o         16\n",
      "4     u         18\n"
     ]
    }
   ],
   "source": [
    "#create dataframe from list of lists \n",
    "import pandas as pd \n",
    "\n",
    "#list of lists\n",
    "list = [['a', 10], ['e', 12], ['i', 14], ['o', 16], ['u', 18]] \n",
    "\n",
    "#create dataframe, naming columns as vowels and occurence \n",
    "df = pd.DataFrame(list, columns=['Vowel', 'Occurence']) \n",
    "\n",
    "print(df)"
   ]
  },
  {
   "cell_type": "code",
   "execution_count": 6,
   "id": "b0fdaa98",
   "metadata": {},
   "outputs": [
    {
     "name": "stdout",
     "output_type": "stream",
     "text": [
      "   Channel  Ratings\n",
      "0  Netflix     4.80\n",
      "1      HBO     4.76\n",
      "2  Peacock     3.50\n",
      "3      Max     4.50\n",
      "4      AMC     3.00\n"
     ]
    }
   ],
   "source": [
    "# Create a dataframe from a list of lists and set the data type\n",
    "import pandas as pd\n",
    "\n",
    "#list of lists\n",
    "list = [['Netflix', 4.8], ['HBO', 4.76], ['Peacock', 3.5], ['Max', 4.5], ['AMC', 3]] \n",
    "\n",
    "#create dataframe, naming columns as channels and ratings\n",
    "df = pd.DataFrame(list, columns=['Channel', 'Ratings'], dtype = float) \n",
    "\n",
    "print(df)"
   ]
  },
  {
   "cell_type": "code",
   "execution_count": 7,
   "id": "d5dc91f8",
   "metadata": {},
   "outputs": [
    {
     "name": "stdout",
     "output_type": "stream",
     "text": [
      "    Ministers  Age\n",
      "0       Texas   30\n",
      "1   Minnesota   40\n",
      "2  Washington   50\n",
      "3      Oregon   60\n",
      "4     Atlanta   70\n"
     ]
    }
   ],
   "source": [
    "#create dataframe from dictionary without specified indices \n",
    "import pandas as pd \n",
    "\n",
    "#dictionary \n",
    "aDict = { 'Ministers' :['Texas', 'Minnesota', 'Washington', 'Oregon', 'Atlanta'], 'Age' : [30, 40, 50, 60, 70]}\n",
    "\n",
    "df = pd.DataFrame(aDict) \n",
    "print(df) \n"
   ]
  },
  {
   "cell_type": "code",
   "execution_count": 10,
   "id": "28b11ec3",
   "metadata": {},
   "outputs": [
    {
     "name": "stdout",
     "output_type": "stream",
     "text": [
      "         Ministers  Age\n",
      "Rank 1       Texas   30\n",
      "Rank 2   Minnesota   40\n",
      "Rank 3  Washington   50\n",
      "Rank 4      Oregon   60\n",
      "Rank 5     Atlanta   70\n"
     ]
    }
   ],
   "source": [
    "# Create a dataframe from a dictionary with specified indices\n",
    "import pandas as pd \n",
    "\n",
    "#dictionary \n",
    "aDict = { 'Ministers' :['Texas', 'Minnesota', 'Washington', 'Oregon', 'Atlanta'], 'Age' : [30, 40, 50, 60, 70]}\n",
    "\n",
    "df = pd.DataFrame(aDict, index = ['Rank 1', 'Rank 2', 'Rank 3', 'Rank 4', 'Rank 5']) \n",
    "print(df) \n"
   ]
  },
  {
   "cell_type": "code",
   "execution_count": 13,
   "id": "bd3f3ff1",
   "metadata": {},
   "outputs": [
    {
     "name": "stdout",
     "output_type": "stream",
     "text": [
      "   first  second\n",
      "W   10.0      10\n",
      "X   30.0      30\n",
      "Y   50.0      50\n",
      "Z    NaN      60\n"
     ]
    }
   ],
   "source": [
    "#create a dataframe from a dictionary of series \n",
    "import pandas as pd \n",
    "\n",
    "#declare a dictionary of series named 'first' and 'second' \n",
    "aDictOfSeries  = { 'first' : pd.Series([10, 30, 50], index = ['W', 'X', 'Y']),\n",
    "                  'second' : pd.Series([10, 30, 50, 60], index = ['W', 'X', 'Y', 'Z'])} \n",
    "\n",
    "df = pd.DataFrame(aDictOfSeries) \n",
    "print(df) \n"
   ]
  },
  {
   "cell_type": "code",
   "execution_count": 16,
   "id": "ae5a57fb",
   "metadata": {},
   "outputs": [
    {
     "name": "stdout",
     "output_type": "stream",
     "text": [
      "W    10.0\n",
      "X    30.0\n",
      "Y    50.0\n",
      "Z     NaN\n",
      "Name: first, dtype: float64\n",
      "W    10\n",
      "X    30\n",
      "Y    50\n",
      "Z    60\n",
      "Name: second, dtype: int64\n"
     ]
    }
   ],
   "source": [
    "# Access a dataframe columns\n",
    "\n",
    "import pandas as pd \n",
    "\n",
    "#declare a dictionary of series named 'first' and 'second' \n",
    "aDictOfSeries  = { 'first' : pd.Series([10, 30, 50], index = ['W', 'X', 'Y']),\n",
    "                  'second' : pd.Series([10, 30, 50, 60], index = ['W', 'X', 'Y', 'Z'])} \n",
    "\n",
    "df = pd.DataFrame(aDictOfSeries)  \n",
    "# Access the column 'first' and print it out \n",
    "print(df['first'])\n",
    "\n",
    "#Access the column 'second' and print it out \n",
    "print(df['second'])"
   ]
  },
  {
   "cell_type": "code",
   "execution_count": 21,
   "id": "2fd7ceb7",
   "metadata": {},
   "outputs": [
    {
     "name": "stdout",
     "output_type": "stream",
     "text": [
      "   first  second  third\n",
      "W   10.0      10    NaN\n",
      "X   30.0      30    NaN\n",
      "Y   50.0      50  100.0\n",
      "Z    NaN      60  200.0\n",
      "\n",
      " Add a new Column ..\n",
      "\n",
      "\n",
      "   first  second  third  fourth  fifth\n",
      "W   10.0      10    NaN    20.0    0.5\n",
      "X   30.0      30    NaN    60.0    0.5\n",
      "Y   50.0      50  100.0   100.0    0.5\n",
      "Z    NaN      60  200.0     NaN    NaN\n"
     ]
    }
   ],
   "source": [
    "# Add columns into a dataframe\n",
    "import pandas as pd\n",
    "\n",
    "#declare a dictionary of series named 'first' and 'second' \n",
    "aDictOfSeries  = { 'first' : pd.Series([10, 30, 50], index = ['W', 'X', 'Y']),\n",
    "                  'second' : pd.Series([10, 30, 50, 60], index = ['W', 'X', 'Y', 'Z'])} \n",
    "\n",
    "df = pd.DataFrame(aDictOfSeries)  \n",
    "\n",
    "# Adding a new column to an existing DataFrame object with column label by passing new series\n",
    "# Adding a new series into the dataframe as a new column: 'third'\n",
    "# First, creating a new series\n",
    "# Then, assign the new series into the new column\n",
    "\n",
    "df['third']=pd.Series([100, 200, 300],index=['Y', 'Z', 'A'])\n",
    "print(df)\n",
    "\n",
    "# Adding a new column using the existing columns in Data Frame\n",
    "print('\\n Add a new Column ..')\n",
    "\n",
    "df['fourth'] = df['first'] + df['second']\n",
    "df['fifth'] = df['first'] / df['fourth']\n",
    "print('\\n')\n",
    "print(df)"
   ]
  },
  {
   "cell_type": "code",
   "execution_count": 22,
   "id": "0ea30e7e",
   "metadata": {},
   "outputs": [
    {
     "name": "stdout",
     "output_type": "stream",
     "text": [
      "   one  two  three\n",
      "a  1.0    1   10.0\n",
      "b  2.0    2   20.0\n",
      "c  3.0    3   30.0\n",
      "d  NaN    4    NaN\n",
      "\n",
      "\n",
      "   two  three\n",
      "a    1   10.0\n",
      "b    2   20.0\n",
      "c    3   30.0\n",
      "d    4    NaN\n",
      "\n",
      "\n",
      "   three\n",
      "a   10.0\n",
      "b   20.0\n",
      "c   30.0\n",
      "d    NaN\n"
     ]
    }
   ],
   "source": [
    "# Delete a column using del function\n",
    "import pandas as pd\n",
    "\n",
    "# Declare a dictionary of 2 series named 'one' and 'two'\n",
    "aDictOfSeries = {'one': pd.Series ([1, 2, 3], \n",
    "index = ['a', 'b', 'c']),'two': pd.Series([1, 2, 3, 4], \n",
    "index = ['a', 'b', 'c', 'd']), 'three': pd.Series([10,20,30],\n",
    "index = ['a', 'b', 'c'])}\n",
    "\n",
    "# Create a dataframe from this dictionary \n",
    "df = pd.DataFrame(aDictOfSeries)\n",
    "print(df)\n",
    "print('\\n')\n",
    "\n",
    "# using del function to delete/remove the first column\n",
    "del(df['one'])\n",
    "print(df) \n",
    "\n",
    "print('\\n') \n",
    "# using pop function to delete another column \" 'two'\n",
    "# Deleting another column using pop function\n",
    "df.pop('two')\n",
    "print(df)"
   ]
  },
  {
   "cell_type": "code",
   "execution_count": 26,
   "id": "fc219ab3",
   "metadata": {},
   "outputs": [
    {
     "name": "stdout",
     "output_type": "stream",
     "text": [
      "first     30.0\n",
      "second    20.0\n",
      "Name: X, dtype: float64\n"
     ]
    }
   ],
   "source": [
    "# Access rows of a dataframe using Loc function\n",
    "# Loc is a row index\n",
    "\n",
    "import pandas as pd\n",
    "\n",
    "#declare a dictionary of series named 'first' and 'second' \n",
    "aDictOfSeries  = { 'first' : pd.Series([10, 30, 50], index = ['W', 'X', 'Y']),\n",
    "                  'second' : pd.Series([10, 20, 30, 60], index = ['W', 'X', 'Y', 'Z'])} \n",
    "\n",
    "df = pd.DataFrame(aDictOfSeries)\n",
    "\n",
    "# Access the row with index='X' and print the row\n",
    "print(df.loc['X'])"
   ]
  },
  {
   "cell_type": "code",
   "execution_count": 33,
   "id": "fd95845f",
   "metadata": {},
   "outputs": [
    {
     "name": "stdout",
     "output_type": "stream",
     "text": [
      "first     50.0\n",
      "second    30.0\n",
      "Name: 3, dtype: float64\n"
     ]
    }
   ],
   "source": [
    "# Access rows of a dataframe using iLoc (integer Location/row index) function\n",
    "\n",
    "import pandas as pd\n",
    "\n",
    "#declare a dictionary of series named 'first' and 'second' \n",
    "aDictOfSeries  = { 'first' : pd.Series([10, 30, 50], index = [1, 2, 3]),\n",
    "                  'second' : pd.Series([10, 20, 30, 60], index = [1, 2, 3, 4])} \n",
    "\n",
    "df = pd.DataFrame(aDictOfSeries)\n",
    "\n",
    "# Access the row with index= '2' and print the row \n",
    "print(df.iloc[2])"
   ]
  },
  {
   "cell_type": "code",
   "execution_count": 34,
   "id": "e035bd2e",
   "metadata": {},
   "outputs": [
    {
     "name": "stdout",
     "output_type": "stream",
     "text": [
      "   first  second\n",
      "3   50.0      30\n",
      "4    NaN      60\n"
     ]
    }
   ],
   "source": [
    "# Access a group of rows using the ':' operator\n",
    "\n",
    "import pandas as pd\n",
    "\n",
    "#declare a dictionary of series named 'first' and 'second' \n",
    "aDictOfSeries  = { 'first' : pd.Series([10, 30, 50], index = [1, 2, 3]),\n",
    "                  'second' : pd.Series([10, 20, 30, 60], index = [1, 2, 3, 4])} \n",
    "\n",
    "df = pd.DataFrame(aDictOfSeries)\n",
    "\n",
    "# Access all the rows with indices 2, 3 and print them\n",
    "print(df[2:4])"
   ]
  },
  {
   "cell_type": "code",
   "execution_count": 38,
   "id": "85a8dc39",
   "metadata": {},
   "outputs": [
    {
     "name": "stdout",
     "output_type": "stream",
     "text": [
      "   a  b\n",
      "0  1  2\n",
      "1  3  4\n",
      "0  5  6\n",
      "1  7  8\n",
      "\n",
      "\n",
      "   a  b\n",
      "0  1  2\n",
      "0  5  6\n"
     ]
    }
   ],
   "source": [
    "# Remove rows from a dataframe using the drop() function\n",
    "\n",
    "import pandas as pd\n",
    "\n",
    "df = pd.DataFrame([[1, 2] , [3, 4]], columns = ['a', 'b'])\n",
    "df2 = pd.DataFrame([[5, 6], [7, 8]], columns = ['a', 'b'])\n",
    "\n",
    "df = df.append(df2)\n",
    "print(df)\n",
    "\n",
    "print('\\n') \n",
    "\n",
    "# Drop rows with Label 0\n",
    "df = df.drop(1)\n",
    "\n",
    "print(df)"
   ]
  },
  {
   "cell_type": "code",
   "execution_count": 45,
   "id": "bee0f27d",
   "metadata": {},
   "outputs": [
    {
     "data": {
      "text/html": [
       "<div>\n",
       "<style scoped>\n",
       "    .dataframe tbody tr th:only-of-type {\n",
       "        vertical-align: middle;\n",
       "    }\n",
       "\n",
       "    .dataframe tbody tr th {\n",
       "        vertical-align: top;\n",
       "    }\n",
       "\n",
       "    .dataframe thead th {\n",
       "        text-align: right;\n",
       "    }\n",
       "</style>\n",
       "<table border=\"1\" class=\"dataframe\">\n",
       "  <thead>\n",
       "    <tr style=\"text-align: right;\">\n",
       "      <th></th>\n",
       "      <th>UNIQUE_ID</th>\n",
       "      <th>POSITION_TITLE</th>\n",
       "      <th>DEPARTMENT</th>\n",
       "      <th>BASE_SALARY</th>\n",
       "      <th>RACE</th>\n",
       "      <th>EMPLOYMENT_TYPE</th>\n",
       "      <th>GENDER</th>\n",
       "      <th>EMPLOYMENT_STATUS</th>\n",
       "      <th>HIRE_DATE</th>\n",
       "      <th>JOB_DATE</th>\n",
       "    </tr>\n",
       "  </thead>\n",
       "  <tbody>\n",
       "    <tr>\n",
       "      <th>0</th>\n",
       "      <td>0</td>\n",
       "      <td>ASSISTANT DIRECTOR (EX LVL)</td>\n",
       "      <td>Municipal Courts Department</td>\n",
       "      <td>121862.0</td>\n",
       "      <td>Hispanic/Latino</td>\n",
       "      <td>Full Time</td>\n",
       "      <td>Female</td>\n",
       "      <td>Active</td>\n",
       "      <td>6/12/2006</td>\n",
       "      <td>10/13/2012</td>\n",
       "    </tr>\n",
       "    <tr>\n",
       "      <th>1</th>\n",
       "      <td>1</td>\n",
       "      <td>LIBRARY ASSISTANT</td>\n",
       "      <td>Library</td>\n",
       "      <td>26125.0</td>\n",
       "      <td>Hispanic/Latino</td>\n",
       "      <td>Full Time</td>\n",
       "      <td>Female</td>\n",
       "      <td>Active</td>\n",
       "      <td>7/19/2000</td>\n",
       "      <td>9/18/2010</td>\n",
       "    </tr>\n",
       "    <tr>\n",
       "      <th>2</th>\n",
       "      <td>2</td>\n",
       "      <td>POLICE OFFICER</td>\n",
       "      <td>Houston Police Department-HPD</td>\n",
       "      <td>45279.0</td>\n",
       "      <td>White</td>\n",
       "      <td>Full Time</td>\n",
       "      <td>Male</td>\n",
       "      <td>Active</td>\n",
       "      <td>2/3/2015</td>\n",
       "      <td>2/3/2015</td>\n",
       "    </tr>\n",
       "    <tr>\n",
       "      <th>3</th>\n",
       "      <td>3</td>\n",
       "      <td>ENGINEER/OPERATOR</td>\n",
       "      <td>Houston Fire Department (HFD)</td>\n",
       "      <td>63166.0</td>\n",
       "      <td>White</td>\n",
       "      <td>Full Time</td>\n",
       "      <td>Male</td>\n",
       "      <td>Active</td>\n",
       "      <td>2/8/1982</td>\n",
       "      <td>5/25/1991</td>\n",
       "    </tr>\n",
       "    <tr>\n",
       "      <th>4</th>\n",
       "      <td>4</td>\n",
       "      <td>ELECTRICIAN</td>\n",
       "      <td>General Services Department</td>\n",
       "      <td>56347.0</td>\n",
       "      <td>White</td>\n",
       "      <td>Full Time</td>\n",
       "      <td>Male</td>\n",
       "      <td>Active</td>\n",
       "      <td>6/19/1989</td>\n",
       "      <td>10/22/1994</td>\n",
       "    </tr>\n",
       "    <tr>\n",
       "      <th>5</th>\n",
       "      <td>5</td>\n",
       "      <td>SENIOR POLICE OFFICER</td>\n",
       "      <td>Houston Police Department-HPD</td>\n",
       "      <td>66614.0</td>\n",
       "      <td>Black or African American</td>\n",
       "      <td>Full Time</td>\n",
       "      <td>Male</td>\n",
       "      <td>Active</td>\n",
       "      <td>11/26/1984</td>\n",
       "      <td>3/26/2005</td>\n",
       "    </tr>\n",
       "  </tbody>\n",
       "</table>\n",
       "</div>"
      ],
      "text/plain": [
       "   UNIQUE_ID               POSITION_TITLE                     DEPARTMENT  \\\n",
       "0          0  ASSISTANT DIRECTOR (EX LVL)    Municipal Courts Department   \n",
       "1          1            LIBRARY ASSISTANT                        Library   \n",
       "2          2               POLICE OFFICER  Houston Police Department-HPD   \n",
       "3          3            ENGINEER/OPERATOR  Houston Fire Department (HFD)   \n",
       "4          4                  ELECTRICIAN    General Services Department   \n",
       "5          5        SENIOR POLICE OFFICER  Houston Police Department-HPD   \n",
       "\n",
       "   BASE_SALARY                       RACE EMPLOYMENT_TYPE  GENDER  \\\n",
       "0     121862.0            Hispanic/Latino       Full Time  Female   \n",
       "1      26125.0            Hispanic/Latino       Full Time  Female   \n",
       "2      45279.0                      White       Full Time    Male   \n",
       "3      63166.0                      White       Full Time    Male   \n",
       "4      56347.0                      White       Full Time    Male   \n",
       "5      66614.0  Black or African American       Full Time    Male   \n",
       "\n",
       "  EMPLOYMENT_STATUS   HIRE_DATE    JOB_DATE  \n",
       "0            Active   6/12/2006  10/13/2012  \n",
       "1            Active   7/19/2000   9/18/2010  \n",
       "2            Active    2/3/2015    2/3/2015  \n",
       "3            Active    2/8/1982   5/25/1991  \n",
       "4            Active   6/19/1989  10/22/1994  \n",
       "5            Active  11/26/1984   3/26/2005  "
      ]
     },
     "execution_count": 45,
     "metadata": {},
     "output_type": "execute_result"
    }
   ],
   "source": [
    "#load data into dataframe  \n",
    "import pandas as pd \n",
    "\n",
    "df_flights = pd.read_csv ('C:/JP_NOTEBOOKS/Data/employee.csv')\n",
    "\n",
    "df_flights.head(6)"
   ]
  },
  {
   "cell_type": "code",
   "execution_count": null,
   "id": "41d8b065",
   "metadata": {},
   "outputs": [],
   "source": []
  }
 ],
 "metadata": {
  "kernelspec": {
   "display_name": "Python 3",
   "language": "python",
   "name": "python3"
  },
  "language_info": {
   "codemirror_mode": {
    "name": "ipython",
    "version": 3
   },
   "file_extension": ".py",
   "mimetype": "text/x-python",
   "name": "python",
   "nbconvert_exporter": "python",
   "pygments_lexer": "ipython3",
   "version": "3.8.8"
  }
 },
 "nbformat": 4,
 "nbformat_minor": 5
}
