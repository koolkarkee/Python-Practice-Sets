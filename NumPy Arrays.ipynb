{
 "cells": [
  {
   "cell_type": "code",
   "execution_count": 46,
   "id": "9fdb9469",
   "metadata": {},
   "outputs": [
    {
     "data": {
      "text/plain": [
       "array([[ 0,  1,  2,  3,  4,  5],\n",
       "       [ 6,  7,  8,  9, 10, 11]])"
      ]
     },
     "execution_count": 46,
     "metadata": {},
     "output_type": "execute_result"
    }
   ],
   "source": [
    "import numpy as np\n",
    "x = np.arange(12).reshape((2, 6))\n",
    "x"
   ]
  },
  {
   "cell_type": "code",
   "execution_count": 5,
   "id": "1511db7b",
   "metadata": {},
   "outputs": [
    {
     "name": "stdout",
     "output_type": "stream",
     "text": [
      "[[ 0  1  2  3]\n",
      " [ 4  5  6  7]\n",
      " [ 8  9 10 11]\n",
      " [12 13 14 15]]\n"
     ]
    },
    {
     "data": {
      "text/plain": [
       "120"
      ]
     },
     "execution_count": 5,
     "metadata": {},
     "output_type": "execute_result"
    }
   ],
   "source": [
    "import numpy as np \n",
    "x = np.arange(16).reshape(4,4)\n",
    "x\n",
    "print(x)\n",
    "x.sum()"
   ]
  },
  {
   "cell_type": "code",
   "execution_count": 48,
   "id": "2717bf08",
   "metadata": {},
   "outputs": [
    {
     "name": "stdout",
     "output_type": "stream",
     "text": [
      "[[ 0  1  2  3]\n",
      " [ 4  5  6  7]\n",
      " [ 8  9 10 11]\n",
      " [12 13 14 15]\n",
      " [16 17 18 19]]\n"
     ]
    },
    {
     "data": {
      "text/plain": [
       "array([ 6, 22, 38, 54, 70])"
      ]
     },
     "execution_count": 48,
     "metadata": {},
     "output_type": "execute_result"
    }
   ],
   "source": [
    "import numpy as np \n",
    "x = np.arange(20).reshape(5,4)\n",
    "print(x)\n",
    "\n",
    "#sum up elements along the horizontal axis \n",
    "y = x.sum(axis = 1)\n",
    "y\n",
    " "
   ]
  },
  {
   "cell_type": "code",
   "execution_count": 50,
   "id": "ffc1034c",
   "metadata": {},
   "outputs": [
    {
     "name": "stdout",
     "output_type": "stream",
     "text": [
      "[[ 0  1  2  3]\n",
      " [ 4  5  6  7]\n",
      " [ 8  9 10 11]\n",
      " [12 13 14 15]\n",
      " [16 17 18 19]]\n"
     ]
    },
    {
     "data": {
      "text/plain": [
       "array([40, 45, 50, 55])"
      ]
     },
     "execution_count": 50,
     "metadata": {},
     "output_type": "execute_result"
    }
   ],
   "source": [
    "import numpy as np \n",
    "x = np.arange(20).reshape(5,4)\n",
    "print(x)\n",
    " \n",
    "#sum up elements along the vertical axis \n",
    "z = x.sum(axis = 0) \n",
    "z "
   ]
  },
  {
   "cell_type": "code",
   "execution_count": 20,
   "id": "710cd9dd",
   "metadata": {},
   "outputs": [
    {
     "data": {
      "text/plain": [
       "array([0.00000000e+000, 0.00000000e+000, 0.00000000e+000, 0.00000000e+000,\n",
       "       0.00000000e+000, 5.88926250e-321, 8.90104238e-307, 2.11392032e-307,\n",
       "       1.60216183e-306])"
      ]
     },
     "execution_count": 20,
     "metadata": {},
     "output_type": "execute_result"
    }
   ],
   "source": [
    "import numpy as np \n",
    "\n",
    "#empty 1D array \n",
    "np.empty(9)\n"
   ]
  },
  {
   "cell_type": "code",
   "execution_count": 26,
   "id": "d88a28e8",
   "metadata": {},
   "outputs": [
    {
     "data": {
      "text/plain": [
       "array([   0,    1,    0,   36, 1108,    0,  768,  145])"
      ]
     },
     "execution_count": 26,
     "metadata": {},
     "output_type": "execute_result"
    }
   ],
   "source": [
    "import numpy as np \n",
    "\n",
    "#empty 1D array of integers, shape = 8\n",
    "np.empty(8, dtype = int)"
   ]
  },
  {
   "cell_type": "code",
   "execution_count": 63,
   "id": "42c3126b",
   "metadata": {},
   "outputs": [
    {
     "data": {
      "text/plain": [
       "array([        0,         1,         0, 757935405,       864,         0,\n",
       "             768,       591])"
      ]
     },
     "execution_count": 63,
     "metadata": {},
     "output_type": "execute_result"
    }
   ],
   "source": [
    "import numpy as np \n",
    "\n",
    "#store values in row as \"C\" programming lanaguage\n",
    "np.empty(8, dtype=int, order = \"C\")"
   ]
  },
  {
   "cell_type": "code",
   "execution_count": 30,
   "id": "4740919f",
   "metadata": {},
   "outputs": [
    {
     "data": {
      "text/plain": [
       "array([[130395280,       591,         0],\n",
       "       [        0,         1,   5242972]])"
      ]
     },
     "execution_count": 30,
     "metadata": {},
     "output_type": "execute_result"
    }
   ],
   "source": [
    "import numpy as np \n",
    "\n",
    "#an empty 1D array of integers : shape (a tuple)\n",
    "np.empty([2,3], dtype=int)"
   ]
  },
  {
   "cell_type": "code",
   "execution_count": 29,
   "id": "b50f6e53",
   "metadata": {},
   "outputs": [
    {
     "data": {
      "text/plain": [
       "array(['', '', '', '', '', '', '', ''], dtype='<U1')"
      ]
     },
     "execution_count": 29,
     "metadata": {},
     "output_type": "execute_result"
    }
   ],
   "source": [
    "import numpy as np \n",
    "\n",
    "#an empty 1D array of strings  \n",
    "np.empty(8, dtype=str)"
   ]
  },
  {
   "cell_type": "code",
   "execution_count": 32,
   "id": "7ae159c3",
   "metadata": {},
   "outputs": [
    {
     "data": {
      "text/plain": [
       "array([[6488147, 6881394, 7602288],\n",
       "       [3866739, 3801155, 5242972]])"
      ]
     },
     "execution_count": 32,
     "metadata": {},
     "output_type": "execute_result"
    }
   ],
   "source": [
    "import numpy as np \n",
    "\n",
    "#a is array like \n",
    "a = ([1,2,3], [4,5,6])\n",
    "np.empty_like(a)"
   ]
  },
  {
   "cell_type": "code",
   "execution_count": 34,
   "id": "80df0cf6",
   "metadata": {},
   "outputs": [
    {
     "data": {
      "text/plain": [
       "array([[0., 0., 0.],\n",
       "       [0., 0., 0.]])"
      ]
     },
     "execution_count": 34,
     "metadata": {},
     "output_type": "execute_result"
    }
   ],
   "source": [
    "import numpy as np \n",
    "a = np.array([[1., 2., 3.], [4., 5., 6.]])\n",
    "np.empty_like(a)"
   ]
  },
  {
   "cell_type": "code",
   "execution_count": 59,
   "id": "98e314eb",
   "metadata": {},
   "outputs": [
    {
     "data": {
      "text/plain": [
       "array([[1, 0],\n",
       "       [0, 1]])"
      ]
     },
     "execution_count": 59,
     "metadata": {},
     "output_type": "execute_result"
    }
   ],
   "source": [
    "import numpy as np \n",
    "np.identity(2, dtype=int)"
   ]
  },
  {
   "cell_type": "code",
   "execution_count": 36,
   "id": "141395ed",
   "metadata": {},
   "outputs": [
    {
     "data": {
      "text/plain": [
       "array([['1', '', '', '', '', '', '', '', ''],\n",
       "       ['', '1', '', '', '', '', '', '', ''],\n",
       "       ['', '', '1', '', '', '', '', '', ''],\n",
       "       ['', '', '', '1', '', '', '', '', ''],\n",
       "       ['', '', '', '', '1', '', '', '', ''],\n",
       "       ['', '', '', '', '', '1', '', '', ''],\n",
       "       ['', '', '', '', '', '', '1', '', ''],\n",
       "       ['', '', '', '', '', '', '', '1', ''],\n",
       "       ['', '', '', '', '', '', '', '', '1']], dtype='<U1')"
      ]
     },
     "execution_count": 36,
     "metadata": {},
     "output_type": "execute_result"
    }
   ],
   "source": [
    "import numpy as np \n",
    "np.identity(9, dtype=str)"
   ]
  },
  {
   "cell_type": "code",
   "execution_count": 37,
   "id": "9a071415",
   "metadata": {},
   "outputs": [
    {
     "data": {
      "text/plain": [
       "array([[0., 0., 1., 0., 0., 0., 0.],\n",
       "       [0., 0., 0., 1., 0., 0., 0.],\n",
       "       [0., 0., 0., 0., 1., 0., 0.],\n",
       "       [0., 0., 0., 0., 0., 1., 0.],\n",
       "       [0., 0., 0., 0., 0., 0., 1.],\n",
       "       [0., 0., 0., 0., 0., 0., 0.],\n",
       "       [0., 0., 0., 0., 0., 0., 0.]])"
      ]
     },
     "execution_count": 37,
     "metadata": {},
     "output_type": "execute_result"
    }
   ],
   "source": [
    "import numpy as np \n",
    "np.eye(7, k=2)"
   ]
  },
  {
   "cell_type": "code",
   "execution_count": 41,
   "id": "36e6d877",
   "metadata": {},
   "outputs": [
    {
     "data": {
      "text/plain": [
       "array([[0., 0., 0., 1., 0., 0., 0., 0.],\n",
       "       [0., 0., 0., 0., 1., 0., 0., 0.],\n",
       "       [0., 0., 0., 0., 0., 1., 0., 0.],\n",
       "       [0., 0., 0., 0., 0., 0., 1., 0.],\n",
       "       [0., 0., 0., 0., 0., 0., 0., 1.],\n",
       "       [0., 0., 0., 0., 0., 0., 0., 0.],\n",
       "       [0., 0., 0., 0., 0., 0., 0., 0.],\n",
       "       [0., 0., 0., 0., 0., 0., 0., 0.]])"
      ]
     },
     "execution_count": 41,
     "metadata": {},
     "output_type": "execute_result"
    }
   ],
   "source": [
    "import numpy as np \n",
    "np.eye(8, k = 3)"
   ]
  },
  {
   "cell_type": "code",
   "execution_count": 71,
   "id": "af843b32",
   "metadata": {},
   "outputs": [
    {
     "data": {
      "text/plain": [
       "array([1., 1., 1., 1., 1.])"
      ]
     },
     "execution_count": 71,
     "metadata": {},
     "output_type": "execute_result"
    }
   ],
   "source": [
    "import numpy as np \n",
    "np.ones(5) "
   ]
  },
  {
   "cell_type": "code",
   "execution_count": 67,
   "id": "7a4bd386",
   "metadata": {},
   "outputs": [
    {
     "data": {
      "text/plain": [
       "array([1., 1.])"
      ]
     },
     "execution_count": 67,
     "metadata": {},
     "output_type": "execute_result"
    }
   ],
   "source": [
    "import numpy as np \n",
    "np.ones(2) "
   ]
  },
  {
   "cell_type": "code",
   "execution_count": 68,
   "id": "33b01662",
   "metadata": {},
   "outputs": [
    {
     "data": {
      "text/plain": [
       "array([1, 1, 1, 1, 1, 1])"
      ]
     },
     "execution_count": 68,
     "metadata": {},
     "output_type": "execute_result"
    }
   ],
   "source": [
    "import numpy as np \n",
    "np.ones(6, dtype=int) "
   ]
  },
  {
   "cell_type": "code",
   "execution_count": 69,
   "id": "1a917386",
   "metadata": {},
   "outputs": [
    {
     "data": {
      "text/plain": [
       "array([1., 1., 1., 1., 1., 1.])"
      ]
     },
     "execution_count": 69,
     "metadata": {},
     "output_type": "execute_result"
    }
   ],
   "source": [
    "import numpy as np \n",
    "np.ones(6, dtype=float) "
   ]
  },
  {
   "cell_type": "code",
   "execution_count": 70,
   "id": "e33c5190",
   "metadata": {},
   "outputs": [
    {
     "data": {
      "text/plain": [
       "array(['1', '1', '1', '1', '1', '1'], dtype='<U1')"
      ]
     },
     "execution_count": 70,
     "metadata": {},
     "output_type": "execute_result"
    }
   ],
   "source": [
    "import numpy as np \n",
    "np.ones(6, dtype=str) "
   ]
  },
  {
   "cell_type": "code",
   "execution_count": 72,
   "id": "2feba242",
   "metadata": {},
   "outputs": [
    {
     "data": {
      "text/plain": [
       "array([0., 0., 0., 0., 0.])"
      ]
     },
     "execution_count": 72,
     "metadata": {},
     "output_type": "execute_result"
    }
   ],
   "source": [
    "import numpy as np \n",
    "np.zeros(5) "
   ]
  },
  {
   "cell_type": "code",
   "execution_count": 76,
   "id": "e39d8645",
   "metadata": {},
   "outputs": [
    {
     "data": {
      "text/plain": [
       "array([0, 0, 0, 0, 0, 0])"
      ]
     },
     "execution_count": 76,
     "metadata": {},
     "output_type": "execute_result"
    }
   ],
   "source": [
    "import numpy as np \n",
    "np.zeros(6, dtype=int) "
   ]
  },
  {
   "cell_type": "code",
   "execution_count": 77,
   "id": "4a015bf4",
   "metadata": {},
   "outputs": [
    {
     "data": {
      "text/plain": [
       "array(['', '', '', '', '', '', ''], dtype='<U1')"
      ]
     },
     "execution_count": 77,
     "metadata": {},
     "output_type": "execute_result"
    }
   ],
   "source": [
    "import numpy as np \n",
    "np.zeros(7, dtype=str) "
   ]
  },
  {
   "cell_type": "code",
   "execution_count": 79,
   "id": "6297b8db",
   "metadata": {},
   "outputs": [
    {
     "data": {
      "text/plain": [
       "array([4, 4, 4, 4, 4, 4, 4])"
      ]
     },
     "execution_count": 79,
     "metadata": {},
     "output_type": "execute_result"
    }
   ],
   "source": [
    "import numpy as np \n",
    "np.full(7, 4)"
   ]
  },
  {
   "cell_type": "code",
   "execution_count": 80,
   "id": "33c7c395",
   "metadata": {},
   "outputs": [
    {
     "data": {
      "text/plain": [
       "array([9.8, 9.8, 9.8, 9.8, 9.8, 9.8, 9.8])"
      ]
     },
     "execution_count": 80,
     "metadata": {},
     "output_type": "execute_result"
    }
   ],
   "source": [
    "import numpy as np \n",
    "np.full(7, 9.8)"
   ]
  },
  {
   "cell_type": "code",
   "execution_count": 81,
   "id": "be2620b5",
   "metadata": {},
   "outputs": [
    {
     "data": {
      "text/plain": [
       "array([-9.8, -9.8, -9.8, -9.8, -9.8, -9.8, -9.8])"
      ]
     },
     "execution_count": 81,
     "metadata": {},
     "output_type": "execute_result"
    }
   ],
   "source": [
    "import numpy as np \n",
    "np.full(7, -9.8)"
   ]
  },
  {
   "cell_type": "code",
   "execution_count": 82,
   "id": "d4a742a1",
   "metadata": {},
   "outputs": [
    {
     "data": {
      "text/plain": [
       "array(['sabin', 'sabin', 'sabin', 'sabin', 'sabin', 'sabin', 'sabin'],\n",
       "      dtype='<U5')"
      ]
     },
     "execution_count": 82,
     "metadata": {},
     "output_type": "execute_result"
    }
   ],
   "source": [
    "import numpy as np \n",
    "np.full(7, 'sabin')"
   ]
  },
  {
   "cell_type": "code",
   "execution_count": 83,
   "id": "7510cf7c",
   "metadata": {},
   "outputs": [
    {
     "data": {
      "text/plain": [
       "array(['pig', 'pig', 'pig', 'pig', 'pig', 'pig', 'pig'], dtype='<U3')"
      ]
     },
     "execution_count": 83,
     "metadata": {},
     "output_type": "execute_result"
    }
   ],
   "source": [
    "import numpy as np \n",
    "np.full(7, \"pig\")"
   ]
  },
  {
   "cell_type": "code",
   "execution_count": 84,
   "id": "df4ed0af",
   "metadata": {},
   "outputs": [
    {
     "data": {
      "text/plain": [
       "array([0, 1, 2, 3, 4])"
      ]
     },
     "execution_count": 84,
     "metadata": {},
     "output_type": "execute_result"
    }
   ],
   "source": [
    "import numpy as np \n",
    "np.arange(5)"
   ]
  },
  {
   "cell_type": "code",
   "execution_count": 85,
   "id": "f8cde987",
   "metadata": {},
   "outputs": [
    {
     "data": {
      "text/plain": [
       "array([0, 1, 2, 3, 4, 5, 6, 7])"
      ]
     },
     "execution_count": 85,
     "metadata": {},
     "output_type": "execute_result"
    }
   ],
   "source": [
    "import numpy as np \n",
    "np.arange(8)"
   ]
  },
  {
   "cell_type": "code",
   "execution_count": 86,
   "id": "5eab3109",
   "metadata": {},
   "outputs": [
    {
     "data": {
      "text/plain": [
       "array([ 5,  6,  7,  8,  9, 10, 11, 12, 13, 14])"
      ]
     },
     "execution_count": 86,
     "metadata": {},
     "output_type": "execute_result"
    }
   ],
   "source": [
    "import numpy as np \n",
    "np.arange(5, 15)"
   ]
  },
  {
   "cell_type": "code",
   "execution_count": 89,
   "id": "91acdd6e",
   "metadata": {},
   "outputs": [
    {
     "data": {
      "text/plain": [
       "array([ 5,  7,  9, 11, 13])"
      ]
     },
     "execution_count": 89,
     "metadata": {},
     "output_type": "execute_result"
    }
   ],
   "source": [
    "import numpy as np \n",
    "np.arange(5, 15, 2)"
   ]
  },
  {
   "cell_type": "code",
   "execution_count": 90,
   "id": "7e7bd2a8",
   "metadata": {},
   "outputs": [
    {
     "data": {
      "text/plain": [
       "array([  5,  15,  25,  35,  45,  55,  65,  75,  85,  95, 105, 115])"
      ]
     },
     "execution_count": 90,
     "metadata": {},
     "output_type": "execute_result"
    }
   ],
   "source": [
    "import numpy as np \n",
    "np.arange(5, 125, 10)"
   ]
  },
  {
   "cell_type": "code",
   "execution_count": 105,
   "id": "85ac0b2e",
   "metadata": {},
   "outputs": [
    {
     "data": {
      "text/plain": [
       "array([2. , 2.2, 2.4, 2.6, 2.8, 3. ])"
      ]
     },
     "execution_count": 105,
     "metadata": {},
     "output_type": "execute_result"
    }
   ],
   "source": [
    "import numpy as np \n",
    "\n",
    "#treats increment of 1/(num-1), 1/(6-1) = 1/5 = 0.2\n",
    "np.linspace(2.0, 3.0, num=6)"
   ]
  },
  {
   "cell_type": "code",
   "execution_count": 100,
   "id": "a7df6470",
   "metadata": {},
   "outputs": [
    {
     "data": {
      "text/plain": [
       "array([2.  , 2.25, 2.5 , 2.75, 3.  ])"
      ]
     },
     "execution_count": 100,
     "metadata": {},
     "output_type": "execute_result"
    }
   ],
   "source": [
    "import numpy as np \n",
    "#treats increment of 1/(num-1), 1/(5-1) = 1/4 = 0.25\n",
    "np.linspace(2.0, 3.0, num=5) "
   ]
  },
  {
   "cell_type": "code",
   "execution_count": 104,
   "id": "887a5f75",
   "metadata": {},
   "outputs": [
    {
     "data": {
      "text/plain": [
       "array([2.        , 2.09090909, 2.18181818, 2.27272727, 2.36363636,\n",
       "       2.45454545, 2.54545455, 2.63636364, 2.72727273, 2.81818182,\n",
       "       2.90909091])"
      ]
     },
     "execution_count": 104,
     "metadata": {},
     "output_type": "execute_result"
    }
   ],
   "source": [
    "import numpy as np \n",
    "#treats increment of 1/(num-1), 1/(11-1) = 1/10 = 0.1\n",
    "np.linspace(2.0, 3.0, num=11, endpoint=False) "
   ]
  },
  {
   "cell_type": "code",
   "execution_count": 106,
   "id": "502de3dd",
   "metadata": {},
   "outputs": [
    {
     "data": {
      "text/plain": [
       "(array([2. , 2.2, 2.4, 2.6, 2.8, 3. ]), 0.2)"
      ]
     },
     "execution_count": 106,
     "metadata": {},
     "output_type": "execute_result"
    }
   ],
   "source": [
    "import numpy as np \n",
    "np.linspace(2.0, 3.0, num=6, retstep = True)"
   ]
  },
  {
   "cell_type": "code",
   "execution_count": 128,
   "id": "32ac0ce6",
   "metadata": {},
   "outputs": [
    {
     "data": {
      "text/plain": [
       "[<matplotlib.lines.Line2D at 0x24f0c81b7c0>]"
      ]
     },
     "execution_count": 128,
     "metadata": {},
     "output_type": "execute_result"
    },
    {
     "data": {
      "image/png": "[encoded data removed]",
      "text/plain": [
       "<Figure size 432x288 with 1 Axes>"
      ]
     },
     "metadata": {
      "needs_background": "light"
     },
     "output_type": "display_data"
    }
   ],
   "source": [
    "import numpy as np \n",
    "import matplotlib.pyplot as plt \n",
    "\n",
    "N = 11\n",
    "y = np.zeros(N)\n",
    " \n",
    "x1 = np.linspace(1, 40, N, endpoint = False) \n",
    "x2 = np.linspace(1, 40, N, endpoint = False)\n",
    "\n",
    "plt.plot(x1, y, 'o')\n",
    "plt.plot(y, (x1*x1), 'o')"
   ]
  },
  {
   "cell_type": "code",
   "execution_count": 133,
   "id": "12c5b22e",
   "metadata": {},
   "outputs": [
    {
     "data": {
      "image/png": "[encoded data removed]",
      "text/plain": [
       "<Figure size 432x288 with 1 Axes>"
      ]
     },
     "metadata": {
      "needs_background": "light"
     },
     "output_type": "display_data"
    }
   ],
   "source": [
    "import numpy as np \n",
    "import matplotlib.pyplot as plt \n",
    "\n",
    "N = 8\n",
    "y = np.zeros(N)\n",
    " \n",
    "x1 = np.linspace(0, 10, N, endpoint = True) \n",
    "x2 = np.linspace(0, 10, N, endpoint = False)\n",
    "\n",
    "plt.plot(x1, y, 'o')\n",
    "plt.plot(x2, y + .5, 'o')\n",
    "plt.ylim([-0.5, 1])\n",
    "(-0.5, 1) \n",
    "plt.show()"
   ]
  },
  {
   "cell_type": "code",
   "execution_count": 14,
   "id": "6bcc509b",
   "metadata": {},
   "outputs": [
    {
     "data": {
      "image/png": "[encoded data removed]",
      "text/plain": [
       "<Figure size 432x288 with 1 Axes>"
      ]
     },
     "metadata": {
      "needs_background": "light"
     },
     "output_type": "display_data"
    }
   ],
   "source": [
    "#plotting a parabola \n",
    "import numpy as np \n",
    "import matplotlib.pyplot as plt \n",
    "\n",
    "N = 21\n",
    "y = np.zeros(N)\n",
    " \n",
    "x1 = np.linspace(-100, 100, N, endpoint = True) \n",
    "x2 = np.linspace(-100, 100, N, endpoint = True)\n",
    "\n",
    "y1 = np.linspace(-100, 100, N, endpoint = True) \n",
    "y2 = np.linspace(-100, 100, N, endpoint = True)\n",
    "\n",
    "#plt.plot(x1, y1 * y1, 'o')\n",
    "#plt.show()\n",
    "\n",
    "plt.plot(x2*x2, y2, 'o')\n",
    "plt.show()"
   ]
  },
  {
   "cell_type": "code",
   "execution_count": 18,
   "id": "39fc917a",
   "metadata": {},
   "outputs": [
    {
     "data": {
      "text/plain": [
       "array([10, 20, 30, 40])"
      ]
     },
     "execution_count": 18,
     "metadata": {},
     "output_type": "execute_result"
    }
   ],
   "source": [
    "#creating from existing data \n",
    "import numpy as np \n",
    "np.array([10, 20, 30, 40]) "
   ]
  },
  {
   "cell_type": "code",
   "execution_count": 19,
   "id": "f1dc2f10",
   "metadata": {},
   "outputs": [
    {
     "data": {
      "text/plain": [
       "array([[10, 20],\n",
       "       [30, 40]])"
      ]
     },
     "execution_count": 19,
     "metadata": {},
     "output_type": "execute_result"
    }
   ],
   "source": [
    "#creating from existing data \n",
    "import numpy as np  \n",
    "np.array([[10,20], [30,40]])"
   ]
  },
  {
   "cell_type": "code",
   "execution_count": 23,
   "id": "2adbfc72",
   "metadata": {},
   "outputs": [
    {
     "data": {
      "text/plain": [
       "array([[10, 20, 30, 40, 50]])"
      ]
     },
     "execution_count": 23,
     "metadata": {},
     "output_type": "execute_result"
    }
   ],
   "source": [
    "#creating from existing data \n",
    "import numpy as np \n",
    "np.array([10, 20, 30, 40, 50], ndmin = 2) "
   ]
  },
  {
   "cell_type": "code",
   "execution_count": 24,
   "id": "62aa8052",
   "metadata": {},
   "outputs": [
    {
     "name": "stdout",
     "output_type": "stream",
     "text": [
      "[10 20 30 40]\n",
      "[10 20 30 40]\n"
     ]
    }
   ],
   "source": [
    "import numpy as np \n",
    "a = [10, 20, 30, 40]\n",
    "b = np.asarray(a)\n",
    "print(b)\n",
    "c = np.asarray(a)\n",
    "print(c)  "
   ]
  },
  {
   "cell_type": "code",
   "execution_count": 27,
   "id": "371776e3",
   "metadata": {},
   "outputs": [
    {
     "name": "stdout",
     "output_type": "stream",
     "text": [
      "[ 84 104 105 115  32 105 115  32 109 121  32 104 111 109 101]\n"
     ]
    },
    {
     "name": "stderr",
     "output_type": "stream",
     "text": [
      "<ipython-input-27-74b8a8ff86d1>:5: DeprecationWarning: The binary mode of fromstring is deprecated, as it behaves surprisingly on unicode inputs. Use frombuffer instead\n",
      "  arr = np.fromstring(s, dtype=np.uint8)\n"
     ]
    }
   ],
   "source": [
    "#from string \n",
    "import numpy as np \n",
    "\n",
    "s = \"This is my home\" \n",
    "arr = np.fromstring(s, dtype=np.uint8)\n",
    "print(arr)"
   ]
  },
  {
   "cell_type": "code",
   "execution_count": 32,
   "id": "e0e0d8fb",
   "metadata": {},
   "outputs": [
    {
     "name": "stdout",
     "output_type": "stream",
     "text": [
      "[[0 1 2]\n",
      " [3 4 5]\n",
      " [6 7 8]]\n",
      "[0 4 8]\n",
      "[1 5]\n"
     ]
    }
   ],
   "source": [
    "import numpy as np \n",
    "x = np.arange(9).reshape((3,3))\n",
    "print(x)\n",
    "\n",
    "y = np.diag(x)\n",
    "print(y)\n",
    "\n",
    "z = np.diag(x, k=1) \n",
    "print(z)"
   ]
  },
  {
   "cell_type": "code",
   "execution_count": 34,
   "id": "37c48a73",
   "metadata": {},
   "outputs": [
    {
     "data": {
      "text/plain": [
       "array([0, 1, 2, 3, 4, 5, 6, 7, 8])"
      ]
     },
     "execution_count": 34,
     "metadata": {},
     "output_type": "execute_result"
    }
   ],
   "source": [
    "import numpy as np \n",
    "np.arange(9)\n"
   ]
  },
  {
   "cell_type": "code",
   "execution_count": 35,
   "id": "325c576d",
   "metadata": {},
   "outputs": [
    {
     "data": {
      "text/plain": [
       "array([[ 0,  1,  2,  3],\n",
       "       [ 4,  5,  6,  7],\n",
       "       [ 8,  9, 10, 11],\n",
       "       [12, 13, 14, 15]])"
      ]
     },
     "execution_count": 35,
     "metadata": {},
     "output_type": "execute_result"
    }
   ],
   "source": [
    "import numpy as np \n",
    "np.arange(16).reshape(4,4)"
   ]
  },
  {
   "cell_type": "code",
   "execution_count": 41,
   "id": "0b097ba8",
   "metadata": {},
   "outputs": [
    {
     "data": {
      "text/plain": [
       "array([10, 20, 30, 40])"
      ]
     },
     "execution_count": 41,
     "metadata": {},
     "output_type": "execute_result"
    }
   ],
   "source": [
    "import numpy as np \n",
    "np.arange(16).reshape(4,4)\n",
    "np.transpose(a, axes = 0)"
   ]
  },
  {
   "cell_type": "code",
   "execution_count": 45,
   "id": "893314bd",
   "metadata": {},
   "outputs": [
    {
     "data": {
      "text/plain": [
       "array([10, 20, 30, 40])"
      ]
     },
     "execution_count": 45,
     "metadata": {},
     "output_type": "execute_result"
    }
   ],
   "source": [
    "import numpy as np \n",
    "np.arange(20).reshape(10,2)\n",
    "np.transpose(a, axes = 0)"
   ]
  },
  {
   "cell_type": "code",
   "execution_count": null,
   "id": "d055dc3b",
   "metadata": {},
   "outputs": [],
   "source": []
  }
 ],
 "metadata": {
  "kernelspec": {
   "display_name": "Python 3",
   "language": "python",
   "name": "python3"
  },
  "language_info": {
   "codemirror_mode": {
    "name": "ipython",
    "version": 3
   },
   "file_extension": ".py",
   "mimetype": "text/x-python",
   "name": "python",
   "nbconvert_exporter": "python",
   "pygments_lexer": "ipython3",
   "version": "3.8.8"
  }
 },
 "nbformat": 4,
 "nbformat_minor": 5
}
