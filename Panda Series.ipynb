{
 "cells": [
  {
   "cell_type": "code",
   "execution_count": 2,
   "id": "0c48fe7c",
   "metadata": {},
   "outputs": [
    {
     "name": "stdout",
     "output_type": "stream",
     "text": [
      "Series([], dtype: float64)\n"
     ]
    },
    {
     "name": "stderr",
     "output_type": "stream",
     "text": [
      "<ipython-input-2-c22e4a56530e>:3: DeprecationWarning: The default dtype for empty Series will be 'object' instead of 'float64' in a future version. Specify a dtype explicitly to silence this warning.\n",
      "  s = pd.Series()\n"
     ]
    }
   ],
   "source": [
    "#create empty series \n",
    "import pandas as pd \n",
    "s = pd.Series()\n",
    "print(s)"
   ]
  },
  {
   "cell_type": "code",
   "execution_count": 3,
   "id": "1a7b4752",
   "metadata": {},
   "outputs": [
    {
     "name": "stdout",
     "output_type": "stream",
     "text": [
      "0    h\n",
      "1    e\n",
      "2    l\n",
      "3    l\n",
      "4    o\n",
      "dtype: object\n"
     ]
    }
   ],
   "source": [
    "#create series from nd array \n",
    "import pandas as pd \n",
    "import numpy as np \n",
    "\n",
    "#array is created from a list \n",
    "data = np.array(['h', 'e', 'l', 'l', 'o'])\n",
    "\n",
    "#series created from the array with default index \n",
    "s = pd.Series(data) \n",
    "print(s)"
   ]
  },
  {
   "cell_type": "code",
   "execution_count": 4,
   "id": "2fef2ba2",
   "metadata": {},
   "outputs": [
    {
     "name": "stdout",
     "output_type": "stream",
     "text": [
      "21    h\n",
      "22    e\n",
      "23    l\n",
      "24    l\n",
      "25    o\n",
      "dtype: object\n"
     ]
    }
   ],
   "source": [
    "#create series from nd array \n",
    "import pandas as pd \n",
    "import numpy as np \n",
    "\n",
    "#array is created from a list \n",
    "data = np.array(['h', 'e', 'l', 'l', 'o'])\n",
    "\n",
    "#series created from the array with specific indexes\n",
    "s = pd.Series(data, index=[21,22,23,24,25]) \n",
    "print(s)"
   ]
  },
  {
   "cell_type": "code",
   "execution_count": 5,
   "id": "bb826d6f",
   "metadata": {},
   "outputs": [
    {
     "name": "stdout",
     "output_type": "stream",
     "text": [
      "h    0.0\n",
      "e    1.0\n",
      "l    3.0\n",
      "o    4.0\n",
      "dtype: float64\n"
     ]
    }
   ],
   "source": [
    "#create series from a dictionary \n",
    "import pandas as pd \n",
    "import numpy as np \n",
    " \n",
    "d = {'h':0., 'e':1., 'l':2, 'l':3, 'o':4} \n",
    "#create a series from dictionary \n",
    "s = pd.Series(d)\n",
    "print(s) "
   ]
  },
  {
   "cell_type": "code",
   "execution_count": 6,
   "id": "14f6f26f",
   "metadata": {},
   "outputs": [
    {
     "name": "stdout",
     "output_type": "stream",
     "text": [
      "c    NaN\n",
      "e    1.0\n",
      "l    3.0\n",
      "l    3.0\n",
      "o    4.0\n",
      "dtype: float64\n"
     ]
    }
   ],
   "source": [
    "#create series from a dictionary \n",
    "import pandas as pd \n",
    "import numpy as np \n",
    " \n",
    "d = {'h':0., 'e':1., 'l':2, 'l':3, 'o':4} \n",
    "#create a series from dictionary with specific indexes \n",
    "s = pd.Series(d, index = ['c','e','l','l','o'])\n",
    "print(s) "
   ]
  },
  {
   "cell_type": "code",
   "execution_count": 7,
   "id": "29c11843",
   "metadata": {},
   "outputs": [
    {
     "name": "stdout",
     "output_type": "stream",
     "text": [
      "0    5\n",
      "1    5\n",
      "2    5\n",
      "3    5\n",
      "4    5\n",
      "5    5\n",
      "6    5\n",
      "dtype: int64\n"
     ]
    }
   ],
   "source": [
    "#create a series from scalar values \n",
    "import pandas as pd \n",
    "import numpy as np \n",
    " \n",
    "s = pd.Series(5, index=[0,1,2,3,4,5,6])\n",
    "print(s)"
   ]
  },
  {
   "cell_type": "code",
   "execution_count": 9,
   "id": "e689ec91",
   "metadata": {},
   "outputs": [
    {
     "name": "stdout",
     "output_type": "stream",
     "text": [
      "40\n"
     ]
    }
   ],
   "source": [
    "#accessing data from series with position \n",
    "import pandas as pd \n",
    "import numpy as np \n",
    " \n",
    "s = pd.Series([10,20,30,40,50,60,70], index=[0,1,2,3,4,5,6])\n",
    "\n",
    "#retrieve 4th element \n",
    "print(s[3])"
   ]
  },
  {
   "cell_type": "code",
   "execution_count": 12,
   "id": "9f267463",
   "metadata": {},
   "outputs": [
    {
     "name": "stdout",
     "output_type": "stream",
     "text": [
      "0    10\n",
      "1    20\n",
      "2    30\n",
      "3    40\n",
      "dtype: int64\n",
      "\n",
      "\n",
      "0    10\n",
      "1    20\n",
      "2    30\n",
      "3    40\n",
      "4    50\n",
      "dtype: int64\n",
      "\n",
      "\n"
     ]
    }
   ],
   "source": [
    "#accessing data from series with position \n",
    "import pandas as pd \n",
    "import numpy as np \n",
    " \n",
    "s = pd.Series([10,20,30,40,50,60,70], index=[0,1,2,3,4,5,6])\n",
    "\n",
    "#retrieve first four elements \n",
    "print(s[:4])\n",
    "\n",
    "print('\\n')\n",
    "\n",
    "#retrievev last two elements \n",
    "print(s[:-2])\n",
    "\n",
    "print('\\n')"
   ]
  },
  {
   "cell_type": "code",
   "execution_count": 14,
   "id": "f4f1d203",
   "metadata": {},
   "outputs": [
    {
     "name": "stdout",
     "output_type": "stream",
     "text": [
      "0    10\n",
      "3    40\n",
      "5    60\n",
      "dtype: int64\n"
     ]
    }
   ],
   "source": [
    "import pandas as pd \n",
    "import numpy as np \n",
    " \n",
    "s = pd.Series([10,20,30,40,50,60,70], index=[0,1,2,3,4,5,6])\n",
    "\n",
    "#retrieving multiple elements \n",
    "print(s[[0,3,5]])"
   ]
  },
  {
   "cell_type": "code",
   "execution_count": null,
   "id": "c028a6e8",
   "metadata": {},
   "outputs": [],
   "source": []
  }
 ],
 "metadata": {
  "kernelspec": {
   "display_name": "Python 3",
   "language": "python",
   "name": "python3"
  },
  "language_info": {
   "codemirror_mode": {
    "name": "ipython",
    "version": 3
   },
   "file_extension": ".py",
   "mimetype": "text/x-python",
   "name": "python",
   "nbconvert_exporter": "python",
   "pygments_lexer": "ipython3",
   "version": "3.8.8"
  }
 },
 "nbformat": 4,
 "nbformat_minor": 5
}
